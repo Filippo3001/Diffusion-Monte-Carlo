{
 "cells": [
  {
   "cell_type": "code",
   "execution_count": null,
   "id": "c36a12ae",
   "metadata": {},
   "outputs": [
    {
     "ename": "ModuleNotFoundError",
     "evalue": "No module named 'functions'",
     "output_type": "error",
     "traceback": [
      "\u001b[31m---------------------------------------------------------------------------\u001b[39m",
      "\u001b[31mModuleNotFoundError\u001b[39m                       Traceback (most recent call last)",
      "\u001b[36mCell\u001b[39m\u001b[36m \u001b[39m\u001b[32mIn[1]\u001b[39m\u001b[32m, line 10\u001b[39m\n\u001b[32m      8\u001b[39m \u001b[38;5;28;01mfrom\u001b[39;00m\u001b[38;5;250m \u001b[39m\u001b[34;01mscipy\u001b[39;00m\u001b[34;01m.\u001b[39;00m\u001b[34;01mdifferentiate\u001b[39;00m\u001b[38;5;250m \u001b[39m\u001b[38;5;28;01mimport\u001b[39;00m hessian\n\u001b[32m      9\u001b[39m \u001b[38;5;28;01mimport\u001b[39;00m\u001b[38;5;250m \u001b[39m\u001b[34;01mvector\u001b[39;00m\u001b[38;5;250m \u001b[39m\u001b[38;5;28;01mas\u001b[39;00m\u001b[38;5;250m \u001b[39m\u001b[34;01mvct\u001b[39;00m\n\u001b[32m---> \u001b[39m\u001b[32m10\u001b[39m \u001b[38;5;28;01mfrom\u001b[39;00m\u001b[38;5;250m \u001b[39m\u001b[34;01mfunctions\u001b[39;00m\u001b[38;5;250m \u001b[39m\u001b[38;5;28;01mimport\u001b[39;00m vector_module\n",
      "\u001b[31mModuleNotFoundError\u001b[39m: No module named 'functions'"
     ]
    }
   ],
   "source": [
    "import sys\n",
    "import os\n",
    "\n",
    "sys.path.append(os.path.abspath(\"/home/filippo/Github/Varational-Monte-Carlo/src/classes\"))\n",
    "sys.path.append(os.path.abspath(\"/home/filippo/Github/Varational-Monte-Carlo/src\"))\n",
    "\n",
    "import numpy as np\n",
    "import Montecarlo\n",
    "from scipy.differentiate import hessian\n",
    "import vector as vct\n",
    "from functions import vector_module"
   ]
  },
  {
   "cell_type": "code",
   "execution_count": 11,
   "id": "aec7a8ec",
   "metadata": {},
   "outputs": [
    {
     "name": "stdout",
     "output_type": "stream",
     "text": [
      "VectorObject3D(x=1, y=3, z=2)\n"
     ]
    }
   ],
   "source": [
    "v = vct.Vector(x = 1, y = 3, z = 2)\n",
    "\n",
    "print(v)\n",
    "\n",
    "def testf(v):\n",
    "    return v.x**2 - v.x + np.sin(v.y) - v.z\n",
    "\n"
   ]
  },
  {
   "cell_type": "code",
   "execution_count": null,
   "id": "79386cb7",
   "metadata": {},
   "outputs": [
    {
     "name": "stdout",
     "output_type": "stream",
     "text": [
      "[-1  1  1]\n"
     ]
    }
   ],
   "source": [
    "x, y = np.array([1,2,3]), np.array([2,1,2])\n",
    "\n",
    "print(vector_x-y)\n"
   ]
  },
  {
   "cell_type": "code",
   "execution_count": null,
   "id": "cb113588",
   "metadata": {},
   "outputs": [],
   "source": []
  }
 ],
 "metadata": {
  "kernelspec": {
   "display_name": "venv",
   "language": "python",
   "name": "python3"
  },
  "language_info": {
   "codemirror_mode": {
    "name": "ipython",
    "version": 3
   },
   "file_extension": ".py",
   "mimetype": "text/x-python",
   "name": "python",
   "nbconvert_exporter": "python",
   "pygments_lexer": "ipython3",
   "version": "3.11.2"
  }
 },
 "nbformat": 4,
 "nbformat_minor": 5
}

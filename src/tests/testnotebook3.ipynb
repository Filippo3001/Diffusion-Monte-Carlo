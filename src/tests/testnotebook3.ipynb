{
 "cells": [
  {
   "cell_type": "code",
   "execution_count": 5,
   "id": "c36a12ae",
   "metadata": {},
   "outputs": [],
   "source": [
    "import sys\n",
    "import os\n",
    "\n",
    "sys.path.append(os.path.abspath(\"/home/filippo/Github/Varational-Monte-Carlo/src/classes\"))\n",
    "\n",
    "import numpy as np\n",
    "import Montecarlo\n",
    "from scipy.differentiate import hessian\n",
    "import vector as vct"
   ]
  },
  {
   "cell_type": "code",
   "execution_count": 11,
   "id": "aec7a8ec",
   "metadata": {},
   "outputs": [
    {
     "name": "stdout",
     "output_type": "stream",
     "text": [
      "VectorObject3D(x=1, y=3, z=2)\n"
     ]
    }
   ],
   "source": [
    "v = vct.Vector(x = 1, y = 3, z = 2)\n",
    "\n",
    "print(v)\n",
    "\n",
    "def testf(v):\n",
    "    return v.x**2 - v.x + np.sin(v.y) - v.z\n",
    "\n"
   ]
  },
  {
   "cell_type": "code",
   "execution_count": 19,
   "id": "79386cb7",
   "metadata": {},
   "outputs": [
    {
     "name": "stdout",
     "output_type": "stream",
     "text": [
      "[1.]\n",
      "0.0\n",
      "1.0\n"
     ]
    }
   ],
   "source": [
    "a = np.zeros(1)\n",
    "b = np.ones_like(a)\n",
    "\n",
    "print(b)\n",
    "\n",
    "for p,d in zip(a,b):\n",
    "    print(p)\n",
    "    print(d)\n"
   ]
  },
  {
   "cell_type": "code",
   "execution_count": 61,
   "id": "f38e9186",
   "metadata": {},
   "outputs": [
    {
     "name": "stdout",
     "output_type": "stream",
     "text": [
      "(array([[1, 2],\n",
      "       [1, 3]]), [1, 2, 3])\n",
      "([1, 3, 4],)\n",
      "(array([1., 2., 3.]), array([1., 3., 4.]))\n",
      "((array([1., 2., 3.]), array([1., 3., 4.])),)\n"
     ]
    }
   ],
   "source": [
    "def f(*args):\n",
    "    print(args)\n",
    "\n",
    "def g(f, *args):\n",
    "    a = np.array(args, dtype=np.float64)\n",
    "    print(tuple(a))\n",
    "    f(tuple(a))\n",
    "\n",
    "f(np.array([[1,2],[1,3]]), [1,2,3])\n",
    "f([1,3,4])\n",
    "g(f, [1,2,3], [1,3,4])"
   ]
  },
  {
   "cell_type": "code",
   "execution_count": 58,
   "id": "ff4072da",
   "metadata": {},
   "outputs": [
    {
     "name": "stdout",
     "output_type": "stream",
     "text": [
      "([1, 2, 3], [1, 3, 4])\n",
      "(array([1, 2, 3]), array([1, 3, 4]))\n"
     ]
    }
   ],
   "source": [
    "r = [1,2,3],[1,3,4]\n",
    "print(r)\n",
    "arr = np.array(r)\n",
    "b = tuple(arr)\n",
    "print(b)"
   ]
  },
  {
   "cell_type": "code",
   "execution_count": 68,
   "id": "aab397fb",
   "metadata": {},
   "outputs": [
    {
     "name": "stdout",
     "output_type": "stream",
     "text": [
      "1 2\n",
      "(1, 2, 3)\n"
     ]
    }
   ],
   "source": [
    "print(*np.array([1,2]))\n",
    "\n",
    "f(*[1,2,3])"
   ]
  },
  {
   "cell_type": "code",
   "execution_count": null,
   "id": "daf2778f",
   "metadata": {},
   "outputs": [],
   "source": []
  }
 ],
 "metadata": {
  "kernelspec": {
   "display_name": "venv",
   "language": "python",
   "name": "python3"
  },
  "language_info": {
   "codemirror_mode": {
    "name": "ipython",
    "version": 3
   },
   "file_extension": ".py",
   "mimetype": "text/x-python",
   "name": "python",
   "nbconvert_exporter": "python",
   "pygments_lexer": "ipython3",
   "version": "3.11.2"
  }
 },
 "nbformat": 4,
 "nbformat_minor": 5
}

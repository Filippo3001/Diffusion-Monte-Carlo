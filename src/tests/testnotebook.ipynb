{
 "cells": [
  {
   "cell_type": "code",
   "execution_count": 1,
   "id": "8d7eb91f",
   "metadata": {},
   "outputs": [],
   "source": [
    "import sys\n",
    "import os\n",
    "\n",
    "sys.path.append(os.path.abspath(\"/home/filippo/Github/Varational-Monte-Carlo/src\"))\n",
    "sys.path.append(os.path.abspath(\"/home/filippo/Github/Varational-Monte-Carlo/src/classes\"))\n",
    "\n",
    "import Montecarlo as mc\n",
    "import numpy as np\n",
    "import sympy as smp\n",
    "import vector as vct"
   ]
  },
  {
   "cell_type": "code",
   "execution_count": 2,
   "id": "3f3853ba",
   "metadata": {},
   "outputs": [],
   "source": [
    "r1x, r1y, r1z, r2x, r2y, r2z, r3x, r3y, r3z, r4x, r4y, r4z = smp.symbols('r1:5(x:z)')"
   ]
  },
  {
   "cell_type": "code",
   "execution_count": 3,
   "id": "fa8fff28",
   "metadata": {},
   "outputs": [],
   "source": [
    "r1 = vct.VectorSympy3D(x = r1x, y = r1y, z = r1z)\n",
    "r2 = vct.VectorSympy3D(x = r2x, y = r2y, z = r2z)\n",
    "r3 = vct.VectorSympy3D(x = r3x, y = r3y, z = r3z)\n",
    "r4 = vct.VectorSympy3D(x = r4x, y = r4y, z = r4z)"
   ]
  },
  {
   "cell_type": "code",
   "execution_count": 4,
   "id": "b688ce67",
   "metadata": {},
   "outputs": [
    {
     "name": "stdout",
     "output_type": "stream",
     "text": [
      "VectorSympy3D(x=r1x, y=r1y, z=r1z)\n"
     ]
    }
   ],
   "source": [
    "print(r1)"
   ]
  },
  {
   "cell_type": "code",
   "execution_count": 5,
   "id": "5b629bde",
   "metadata": {},
   "outputs": [
    {
     "name": "stdout",
     "output_type": "stream",
     "text": [
      "(a*exp((-alpha - beta)*((r1x - r2x)**2 + (r1y - r2y)**2 + (r1z - r2z)**2)) + exp(-beta*((r1x - r2x)**2 + (r1y - r2y)**2 + (r1z - r2z)**2)))*(a*exp((-alpha - beta)*((r1x - r3x)**2 + (r1y - r3y)**2 + (r1z - r3z)**2)) + exp(-beta*((r1x - r3x)**2 + (r1y - r3y)**2 + (r1z - r3z)**2)))*(a*exp((-alpha - beta)*((r1x - r4x)**2 + (r1y - r4y)**2 + (r1z - r4z)**2)) + exp(-beta*((r1x - r4x)**2 + (r1y - r4y)**2 + (r1z - r4z)**2)))*(a*exp((-alpha - beta)*((r2x - r3x)**2 + (r2y - r3y)**2 + (r2z - r3z)**2)) + exp(-beta*((r2x - r3x)**2 + (r2y - r3y)**2 + (r2z - r3z)**2)))*(a*exp((-alpha - beta)*((r2x - r4x)**2 + (r2y - r4y)**2 + (r2z - r4z)**2)) + exp(-beta*((r2x - r4x)**2 + (r2y - r4y)**2 + (r2z - r4z)**2)))*(a*exp((-alpha - beta)*((r3x - r4x)**2 + (r3y - r4y)**2 + (r3z - r4z)**2)) + exp(-beta*((r3x - r4x)**2 + (r3y - r4y)**2 + (r3z - r4z)**2)))\n"
     ]
    }
   ],
   "source": [
    "import functions_smp as fsmp\n",
    "a, alpha, beta = smp.symbols('a, alpha, beta')\n",
    "\n",
    "f1 = fsmp.He_trial_function(a, alpha, beta, r1, r2, r3, r4)\n",
    "\n",
    "print(f1)"
   ]
  },
  {
   "cell_type": "code",
   "execution_count": 7,
   "id": "ddea01f5",
   "metadata": {},
   "outputs": [
    {
     "name": "stdout",
     "output_type": "stream",
     "text": [
      "(-r1x**2/(r1x**2 + r1y**2 + r1z**2) + 1)/sqrt(r1x**2 + r1y**2 + r1z**2) + (-r1y**2/(r1x**2 + r1y**2 + r1z**2) + 1)/sqrt(r1x**2 + r1y**2 + r1z**2) + (-r1z**2/(r1x**2 + r1y**2 + r1z**2) + 1)/sqrt(r1x**2 + r1y**2 + r1z**2)\n"
     ]
    }
   ],
   "source": [
    "test = abs(r1)\n",
    "\n",
    "print(fsmp.Laplacian(test, r1))"
   ]
  },
  {
   "cell_type": "code",
   "execution_count": null,
   "id": "36f21482",
   "metadata": {},
   "outputs": [],
   "source": []
  }
 ],
 "metadata": {
  "kernelspec": {
   "display_name": "venv",
   "language": "python",
   "name": "python3"
  },
  "language_info": {
   "codemirror_mode": {
    "name": "ipython",
    "version": 3
   },
   "file_extension": ".py",
   "mimetype": "text/x-python",
   "name": "python",
   "nbconvert_exporter": "python",
   "pygments_lexer": "ipython3",
   "version": "3.11.2"
  }
 },
 "nbformat": 4,
 "nbformat_minor": 5
}
